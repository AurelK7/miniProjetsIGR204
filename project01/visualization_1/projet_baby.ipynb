{
 "cells": [
  {
   "cell_type": "code",
   "execution_count": 12,
   "id": "9d2b8594",
   "metadata": {},
   "outputs": [],
   "source": [
    "import pandas as pd\n",
    "import numpy as np\n",
    "\n",
    "import altair as alt \n",
    "# work-around to let Altair handle larger data sets\n",
    "alt.data_transformers.enable('json')\n",
    "\n",
    "import ipywidgets as widgets"
   ]
  },
  {
   "cell_type": "markdown",
   "id": "70a68558",
   "metadata": {},
   "source": [
    "## Loading and pre-processing the data set\n",
    "\n",
    "First we'll load our data set and pre-process it in order to aggregate it and put it in the necessary format."
   ]
  },
  {
   "cell_type": "code",
   "execution_count": 3,
   "id": "432ea6da",
   "metadata": {
    "code_folding": []
   },
   "outputs": [
    {
     "data": {
      "text/html": [
       "<div>\n",
       "<style scoped>\n",
       "    .dataframe tbody tr th:only-of-type {\n",
       "        vertical-align: middle;\n",
       "    }\n",
       "\n",
       "    .dataframe tbody tr th {\n",
       "        vertical-align: top;\n",
       "    }\n",
       "\n",
       "    .dataframe thead th {\n",
       "        text-align: right;\n",
       "    }\n",
       "</style>\n",
       "<table border=\"1\" class=\"dataframe\">\n",
       "  <thead>\n",
       "    <tr style=\"text-align: right;\">\n",
       "      <th></th>\n",
       "      <th>gender</th>\n",
       "      <th>name</th>\n",
       "      <th>year</th>\n",
       "      <th>dpt</th>\n",
       "      <th>births</th>\n",
       "    </tr>\n",
       "  </thead>\n",
       "  <tbody>\n",
       "    <tr>\n",
       "      <th>0</th>\n",
       "      <td>1</td>\n",
       "      <td>Aadil</td>\n",
       "      <td>1983</td>\n",
       "      <td>84</td>\n",
       "      <td>3</td>\n",
       "    </tr>\n",
       "    <tr>\n",
       "      <th>1</th>\n",
       "      <td>1</td>\n",
       "      <td>Aadil</td>\n",
       "      <td>1992</td>\n",
       "      <td>92</td>\n",
       "      <td>3</td>\n",
       "    </tr>\n",
       "    <tr>\n",
       "      <th>2</th>\n",
       "      <td>1</td>\n",
       "      <td>Aahil</td>\n",
       "      <td>2016</td>\n",
       "      <td>95</td>\n",
       "      <td>3</td>\n",
       "    </tr>\n",
       "    <tr>\n",
       "      <th>3</th>\n",
       "      <td>1</td>\n",
       "      <td>Aaron</td>\n",
       "      <td>1962</td>\n",
       "      <td>75</td>\n",
       "      <td>3</td>\n",
       "    </tr>\n",
       "    <tr>\n",
       "      <th>4</th>\n",
       "      <td>1</td>\n",
       "      <td>Aaron</td>\n",
       "      <td>1976</td>\n",
       "      <td>75</td>\n",
       "      <td>3</td>\n",
       "    </tr>\n",
       "  </tbody>\n",
       "</table>\n",
       "</div>"
      ],
      "text/plain": [
       "   gender   name  year  dpt  births\n",
       "0       1  Aadil  1983   84       3\n",
       "1       1  Aadil  1992   92       3\n",
       "2       1  Aahil  2016   95       3\n",
       "3       1  Aaron  1962   75       3\n",
       "4       1  Aaron  1976   75       3"
      ]
     },
     "execution_count": 3,
     "metadata": {},
     "output_type": "execute_result"
    }
   ],
   "source": [
    "# Load data\n",
    "df = pd.read_csv(\"../data/dpt2020.csv\", \n",
    "                 sep=';',\n",
    "                 header=0,\n",
    "                 names=['gender', 'name', 'year', 'dpt', 'births'],\n",
    "                 converters={\n",
    "                          'name': str.title,\n",
    "                      })\n",
    "\n",
    "# Cleanning\n",
    "df = df.loc[(df['name'].str.len() > 1)\n",
    "                & (df['year'] != 'XXXX')\n",
    "                & ~df['name'].str.startswith('_')].reset_index(drop=True)\n",
    "df['name'] = df['name'].str.normalize('NFKD').str.encode('ascii', errors='ignore').str.decode('utf-8')\n",
    "\n",
    "df['year'] = df['year'].astype(np.int64)\n",
    "df['dpt'] = df['dpt'].astype(np.int64)\n",
    "df.head()"
   ]
  },
  {
   "cell_type": "markdown",
   "id": "c64b48a0",
   "metadata": {},
   "source": [
    "We can now aggregate our data set by year and by name to get rid of the detail per departement. We'll also add the percentage of births for each name. This percentatge is the number of births for a given name and a given year divided by the total number of births that year."
   ]
  },
  {
   "cell_type": "code",
   "execution_count": 4,
   "id": "38053256",
   "metadata": {
    "code_folding": [
     0
    ]
   },
   "outputs": [
    {
     "data": {
      "text/html": [
       "<div>\n",
       "<style scoped>\n",
       "    .dataframe tbody tr th:only-of-type {\n",
       "        vertical-align: middle;\n",
       "    }\n",
       "\n",
       "    .dataframe tbody tr th {\n",
       "        vertical-align: top;\n",
       "    }\n",
       "\n",
       "    .dataframe thead th {\n",
       "        text-align: right;\n",
       "    }\n",
       "</style>\n",
       "<table border=\"1\" class=\"dataframe\">\n",
       "  <thead>\n",
       "    <tr style=\"text-align: right;\">\n",
       "      <th></th>\n",
       "      <th>name</th>\n",
       "      <th>year</th>\n",
       "      <th>births</th>\n",
       "      <th>percentage</th>\n",
       "    </tr>\n",
       "  </thead>\n",
       "  <tbody>\n",
       "    <tr>\n",
       "      <th>0</th>\n",
       "      <td>Leo</td>\n",
       "      <td>2020</td>\n",
       "      <td>4659</td>\n",
       "      <td>0.009564</td>\n",
       "    </tr>\n",
       "    <tr>\n",
       "      <th>1</th>\n",
       "      <td>Gabriel</td>\n",
       "      <td>2020</td>\n",
       "      <td>4421</td>\n",
       "      <td>0.009075</td>\n",
       "    </tr>\n",
       "    <tr>\n",
       "      <th>2</th>\n",
       "      <td>Raphael</td>\n",
       "      <td>2020</td>\n",
       "      <td>4111</td>\n",
       "      <td>0.008439</td>\n",
       "    </tr>\n",
       "    <tr>\n",
       "      <th>3</th>\n",
       "      <td>Jade</td>\n",
       "      <td>2020</td>\n",
       "      <td>3815</td>\n",
       "      <td>0.007831</td>\n",
       "    </tr>\n",
       "    <tr>\n",
       "      <th>4</th>\n",
       "      <td>Louise</td>\n",
       "      <td>2020</td>\n",
       "      <td>3807</td>\n",
       "      <td>0.007815</td>\n",
       "    </tr>\n",
       "  </tbody>\n",
       "</table>\n",
       "</div>"
      ],
      "text/plain": [
       "      name  year  births  percentage\n",
       "0      Leo  2020    4659    0.009564\n",
       "1  Gabriel  2020    4421    0.009075\n",
       "2  Raphael  2020    4111    0.008439\n",
       "3     Jade  2020    3815    0.007831\n",
       "4   Louise  2020    3807    0.007815"
      ]
     },
     "execution_count": 4,
     "metadata": {},
     "output_type": "execute_result"
    }
   ],
   "source": [
    "df_agg = df[['name', 'year', 'births']].groupby(['name', 'year']).sum().sort_values(by=['year', 'births', 'name'], ascending=[False, False, True]).reset_index()\n",
    "\n",
    "total_year = {}\n",
    "for key, group in df_agg.groupby('year'):\n",
    "    total_year[key] = group['births'].sum()\n",
    "    \n",
    "df_agg['percentage'] = df_agg.apply(lambda row: row[2]/total_year[row[1]], axis=1)\n",
    "\n",
    "# we can export our aggregated data set\n",
    "#df.to_csv(\"../data/baby_years.csv\", sep=';' ,index=False)\n",
    "\n",
    "df_agg.head()"
   ]
  },
  {
   "cell_type": "markdown",
   "id": "c048aab6",
   "metadata": {},
   "source": [
    "## Loading the aggregated dataset\n",
    "\n",
    "We can load our aggregated data set. We also need to create a dictionaries to allow us to easilly create filters for our visualization."
   ]
  },
  {
   "cell_type": "code",
   "execution_count": 13,
   "id": "2d0ee588",
   "metadata": {},
   "outputs": [
    {
     "data": {
      "text/plain": [
       "(249113, 4)"
      ]
     },
     "execution_count": 13,
     "metadata": {},
     "output_type": "execute_result"
    }
   ],
   "source": [
    "# loading the aggregated dataframe\n",
    "df_agg=pd.read_csv(\"../data/baby_years.csv\", sep=';')\n",
    "df_agg.shape"
   ]
  },
  {
   "cell_type": "markdown",
   "id": "7f4e42cc",
   "metadata": {},
   "source": [
    "Define our dictionaries to apply filters."
   ]
  },
  {
   "cell_type": "code",
   "execution_count": 17,
   "id": "acb3998b",
   "metadata": {},
   "outputs": [],
   "source": [
    "# ranking names on all years to filter on all years\n",
    "d_percent = {}\n",
    "d_births = {}\n",
    "for key, gp in df_agg.groupby('name'):\n",
    "    d_percent[key] = gp.percentage.sum()\n",
    "    d_births[key] = gp.births.sum()\n",
    "\n",
    "# sort the dict by value then key => if Same value, sort by name!\n",
    "d_fpercent = dict(sorted(d_percent.items(), key=lambda x: x[1], reverse=True)) \n",
    "d_births = dict(sorted(d_births.items(), key=lambda x: x[1], reverse=True))\n"
   ]
  },
  {
   "cell_type": "markdown",
   "id": "dffc4a95",
   "metadata": {},
   "source": [
    "## First graph\n",
    "In this section we'll plot the graphs as we imagined it in our sketches."
   ]
  },
  {
   "cell_type": "code",
   "execution_count": 19,
   "id": "5af906a1",
   "metadata": {
    "code_folding": [],
    "scrolled": false
   },
   "outputs": [
    {
     "data": {
      "application/vnd.jupyter.widget-view+json": {
       "model_id": "00dbe6c0929a445394c6b2a647ba5b2e",
       "version_major": 2,
       "version_minor": 0
      },
      "text/plain": [
       "HBox(children=(Dropdown(description='Display :', options=(None, 'Top 5', 'Top 10', 'Bottom 5', 'Bottom 10'), v…"
      ]
     },
     "metadata": {},
     "output_type": "display_data"
    },
    {
     "data": {
      "application/vnd.jupyter.widget-view+json": {
       "model_id": "159ef236d2eb4b34bbbe6bde6b075a32",
       "version_major": 2,
       "version_minor": 0
      },
      "text/plain": [
       "Output()"
      ]
     },
     "metadata": {},
     "output_type": "display_data"
    }
   ],
   "source": [
    "# Widgets\n",
    "selection=widgets.Dropdown(\n",
    "    options=[None, 'Top 5', 'Top 10', 'Bottom 5', 'Bottom 10'],\n",
    "    value= None,\n",
    "    description='Display :',\n",
    ")\n",
    "year=widgets.Dropdown(\n",
    "    options=[None,'All'] + sorted(list(df_agg.year.unique())),\n",
    "    value= None,\n",
    "    description='Year:',\n",
    ")\n",
    "name = widgets.Dropdown(\n",
    "    options=[None] + sorted(list(df_agg.name.unique())),\n",
    "    value=None,\n",
    "    description='Name:',\n",
    ")\n",
    "\n",
    "# Drawing function\n",
    "def make_chart(noms):  \n",
    "    \n",
    "    donnee=df_agg[df_agg.name.isin(noms)] # data\n",
    "    selector = alt.selection_multi(fields=['name']) # filter\n",
    "\n",
    "    # chart\n",
    "    chart=alt.Chart(donnee,\n",
    "             width=800,\n",
    "             height=400,\n",
    "             title='Percentage of each name per year').mark_line(point=(donnee.year.nunique() <= 10)).encode(\n",
    "                                x='year:Q',\n",
    "                                y='percentage:Q',\n",
    "                                tooltip=['name','year','births','percentage'],\n",
    "                                #color = alt.Color('name:N')\n",
    "                                color=alt.condition(selector, 'name:N', alt.value('lightgray'))\n",
    "                            ).add_selection(selector)\n",
    "\n",
    "    \n",
    "    # Creation de l'histogram\n",
    "    histo = alt.Chart(donnee, width=800, height=200,\n",
    "                      title='Number of births for each name per year').mark_bar().encode(\n",
    "        x='year:Q',\n",
    "        y='births:Q',\n",
    "        tooltip=['name','year','births','percentage'],\n",
    "        color='name:N',\n",
    "        opacity=alt.value(0.7)\n",
    "    ).transform_filter(selector)\n",
    "\n",
    "    return chart & histo\n",
    "\n",
    "\n",
    "def visualisation(selection,annee,nom):\n",
    "    # get value form selectors\n",
    "    if not (selection==annee==nom): # All selector are not None=>\n",
    "        if selection:\n",
    "            select = selection.split(' ')\n",
    "            select[1] = int(select[1])\n",
    "        else:\n",
    "            select = [None, None]\n",
    "\n",
    "        # update dataframe according to filter\n",
    "        if nom is None:\n",
    "            if annee !='All' and select[0]=='Top':\n",
    "                l_noms=df_agg[df_agg.year==annee].nlargest(select[1],'births', keep='all').name.values\n",
    "            if annee !='All' and select[0]=='Bottom':\n",
    "                l_noms=df_agg[df_agg.year==annee].nsmallest(select[1],'births', keep='all').name.values\n",
    "            if annee !='All' and selection is None:\n",
    "                l_noms=df_agg[df_agg.year==annee].name.values\n",
    "            if annee =='All' and select[0]=='Top':\n",
    "                l_noms=list(d_percent.keys())[:select[1]]\n",
    "            if annee =='All' and select[0]=='Bottom':\n",
    "                l_noms=list(d_percent.keys())[-select[1]:]\n",
    "            if annee =='All' and select[0] is None:\n",
    "                l_noms = list(df_agg.name.unique())\n",
    "        else:\n",
    "            l_noms = [nom]\n",
    "        \n",
    "        if (selection == None and annee == None) or len(l_noms) == 0:\n",
    "            print(\"No data to display, select a Top/Bottom and a year or a name\")\n",
    "        else:\n",
    "            display(make_chart(l_noms))\n",
    "    \n",
    "    return None\n",
    "\n",
    "#Running graph\n",
    "box = widgets.HBox([selection, year, name]) \n",
    "out = widgets.interactive_output(visualisation, {'selection':selection, 'annee':year, 'nom':name});\n",
    "display(box,out)"
   ]
  },
  {
   "cell_type": "markdown",
   "id": "003f2a59",
   "metadata": {},
   "source": [
    "## Second graph\n",
    "In this section we'll plot the graphs previously made and we'll add a graph with the total number of birth per year and the number of distinct names given each year (diversity), as we noticed that the tota number of births per name seemed to have been decreasing during the last past years. We suspected that this was due to the diversification of the names given (there are more and more distinct names, so each individual name is less and less represented). We added a graph to confirm our hypothis."
   ]
  },
  {
   "cell_type": "code",
   "execution_count": 17,
   "id": "e6dce70d",
   "metadata": {
    "code_folding": []
   },
   "outputs": [
    {
     "data": {
      "application/vnd.jupyter.widget-view+json": {
       "model_id": "cce20104fd42464aa3c17b68b4a111a5",
       "version_major": 2,
       "version_minor": 0
      },
      "text/plain": [
       "HBox(children=(Dropdown(description='Display :', options=(None, 'Top 5', 'Top 10', 'Bottom 5', 'Bottom 10'), v…"
      ]
     },
     "metadata": {},
     "output_type": "display_data"
    },
    {
     "data": {
      "application/vnd.jupyter.widget-view+json": {
       "model_id": "ddf6b1bccc3b47b7ae3816a3e252995d",
       "version_major": 2,
       "version_minor": 0
      },
      "text/plain": [
       "Output()"
      ]
     },
     "metadata": {},
     "output_type": "display_data"
    }
   ],
   "source": [
    "# Widgets\n",
    "selection=widgets.Dropdown(\n",
    "    options=[None, 'Top 5', 'Top 10', 'Bottom 5', 'Bottom 10'],\n",
    "    value= None,\n",
    "    description='Display :',\n",
    ")\n",
    "year=widgets.Dropdown(\n",
    "    options=[None,'All'] + sorted(list(df_agg.year.unique())),\n",
    "    value= None,\n",
    "    description='Year:',\n",
    ")\n",
    "name = widgets.Dropdown(\n",
    "    options=[None] + sorted(list(df_agg.name.unique())),\n",
    "    value=None,\n",
    "    description='Name:',\n",
    ")\n",
    "\n",
    "# Drawing function\n",
    "def make_chart(noms):   \n",
    "    # data selection\n",
    "    donnee=df_agg[df_agg.name.isin(noms)] # data\n",
    "    selector = alt.selection_multi(fields=['name']) # filter\n",
    "    \n",
    "    # chart\n",
    "    chart=alt.Chart(donnee,\n",
    "             width=800,\n",
    "             height=400,\n",
    "            title='Percentage of each name per year').mark_line(point=(donnee.year.nunique() <= 10)).encode(\n",
    "                                x='year:Q',\n",
    "                                y='percentage:Q',\n",
    "                                tooltip=['name:N','year:Q','births:Q','percentage:Q'],\n",
    "                                #color = alt.Color('name:N')\n",
    "                                color=alt.condition(selector, 'name:N', alt.value('lightgray'))\n",
    "                            ).add_selection(selector)\n",
    "    \n",
    "    # bar plot of name diversity per year\n",
    "    diversity = alt.Chart(df_agg, width=800, height=200,\n",
    "                          title='Names diversity and natality per year'\n",
    "                         ).mark_bar(color='darkblue').encode(x='year:Q',\n",
    "                            y=alt.Y('nbNameYear:Q', \n",
    "                                    axis=alt.Axis(title='Name diversity per year', \n",
    "                                                  titleColor='darkblue')),\n",
    "                             tooltip=['year',\"nbNameYear:Q\"]\n",
    "                            ).transform_aggregate(nbNameYear='count(name)',\n",
    "                                                  groupby=[\"year\"]\n",
    "                                                    )\n",
    "    # lineplot of annual birth\n",
    "    annualbirth = alt.Chart(df_agg, width=800, height=200\n",
    "                           ).mark_line(color='red').encode(x='year:Q',\n",
    "                                                            y=alt.Y('birthsYear:Q', \n",
    "                                                                    axis=alt.Axis(title='sum births per year', \n",
    "                                                                                  titleColor='red')),\n",
    "                                                           tooltip=['year',\"birthsYear:Q\"]\n",
    "                                                            ).transform_aggregate(\n",
    "                                                                                birthsYear='sum(births)',\n",
    "                                                                                groupby=[\"year\"]\n",
    "                                                                                )\n",
    "    # create a layer to link bar plot and lineplot with 2 y scales independant\n",
    "    down = alt.layer(diversity, annualbirth).resolve_scale(y = 'independent')\n",
    "    \n",
    "    # Creation de l'histogram\n",
    "    histo = alt.Chart(donnee, width=800, height=200, title='Number of births for each name per year').mark_bar().encode(\n",
    "        x='year:Q',\n",
    "        y='births:Q',\n",
    "        color='name:N',\n",
    "        tooltip=['name','year','births','percentage'],\n",
    "        opacity=alt.value(0.7)\n",
    "    ).transform_filter(selector)\n",
    "\n",
    "    return chart & histo & down\n",
    "\n",
    "\n",
    "\n",
    "def visualisation(selection,annee,nom):\n",
    "    # get value form selectors\n",
    "    if not (selection==annee==nom): # All selector are not None\n",
    "        if selection:\n",
    "            select = selection.split(' ')\n",
    "            select[1] = int(select[1])\n",
    "        else:\n",
    "            select = [None, None]\n",
    "\n",
    "        # update dataframe according to filter\n",
    "        if nom is None:\n",
    "            if annee !='All' and select[0]=='Top':\n",
    "                l_noms=df_agg[df_agg.year==annee].nlargest(select[1],'births', keep='all').name.values\n",
    "            if annee !='All' and select[0]=='Bottom':\n",
    "                l_noms=df_agg[df_agg.year==annee].nsmallest(select[1],'births', keep='all').name.values\n",
    "            if annee !='All' and selection is None:\n",
    "                l_noms=df_agg[df_agg.year==annee].name.values\n",
    "            if annee =='All' and select[0]=='Top':\n",
    "                l_noms=list(d_percent.keys())[:select[1]]\n",
    "            if annee =='All' and select[0]=='Bottom':\n",
    "                l_noms=list(d_percent.keys())[-select[1]:]\n",
    "            if annee =='All' and select[0] is None:\n",
    "                l_noms = list(df_agg.name.unique())\n",
    "        else:\n",
    "            l_noms = [nom]\n",
    "\n",
    "        if (selection == None and annee == None) or len(l_noms) == 0:\n",
    "            print(\"No data to display, select a Top/Bottom and a year or a name\")\n",
    "        else:\n",
    "            display(make_chart(l_noms))\n",
    "    \n",
    "    return None\n",
    "\n",
    "#Running graph\n",
    "box = widgets.HBox([selection, year, name]) \n",
    "out = widgets.interactive_output(visualisation, {'selection':selection, 'annee':year, 'nom':name});\n",
    "display(box,out)"
   ]
  },
  {
   "cell_type": "code",
   "execution_count": null,
   "id": "845fc26f",
   "metadata": {},
   "outputs": [],
   "source": []
  }
 ],
 "metadata": {
  "kernelspec": {
   "display_name": "Python 3 (ipykernel)",
   "language": "python",
   "name": "python3"
  },
  "language_info": {
   "codemirror_mode": {
    "name": "ipython",
    "version": 3
   },
   "file_extension": ".py",
   "mimetype": "text/x-python",
   "name": "python",
   "nbconvert_exporter": "python",
   "pygments_lexer": "ipython3",
   "version": "3.9.7"
  },
  "vscode": {
   "interpreter": {
    "hash": "916dbcbb3f70747c44a77c7bcd40155683ae19c65e1c03b4aa3499c5328201f1"
   }
  }
 },
 "nbformat": 4,
 "nbformat_minor": 5
}
