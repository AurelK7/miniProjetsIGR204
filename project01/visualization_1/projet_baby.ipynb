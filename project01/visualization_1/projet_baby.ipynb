{
 "cells": [
  {
   "cell_type": "code",
   "execution_count": 2,
   "id": "9d2b8594",
   "metadata": {},
   "outputs": [
    {
     "data": {
      "text/plain": [
       "DataTransformerRegistry.enable('json')"
      ]
     },
     "execution_count": 2,
     "metadata": {},
     "output_type": "execute_result"
    }
   ],
   "source": [
    "import pandas as pd\n",
    "import numpy as np\n",
    "import ipywidgets as widgets\n",
    "import altair as alt \n",
    "alt.data_transformers.enable('json') # work-around to let Altair handle larger data sets\n",
    "\n",
    "#import matplotlib.pyplot as plt"
   ]
  },
  {
   "cell_type": "markdown",
   "id": "c048aab6",
   "metadata": {},
   "source": [
    "## Chargement des données aggregées"
   ]
  },
  {
   "cell_type": "code",
   "execution_count": 4,
   "id": "2d0ee588",
   "metadata": {},
   "outputs": [
    {
     "data": {
      "text/plain": [
       "(249113, 4)"
      ]
     },
     "execution_count": 4,
     "metadata": {},
     "output_type": "execute_result"
    }
   ],
   "source": [
    "# loading new dataframe clean and tunned \n",
    "df=pd.read_csv(\"../data/baby_years.csv\", sep=';')\n",
    "df.shape"
   ]
  },
  {
   "cell_type": "markdown",
   "id": "7f4e42cc",
   "metadata": {},
   "source": [
    "##### Besoin de definir des dictionnaires de ranking sur All year  --> Non present dans la dataFrame aggregée"
   ]
  },
  {
   "cell_type": "code",
   "execution_count": 5,
   "id": "acb3998b",
   "metadata": {},
   "outputs": [],
   "source": [
    "# faire un ranking des prenoms sur toutes les années qui sera utile pour le trie \"All\"\n",
    "#\n",
    "\n",
    "d_freq = {}\n",
    "d_births = {}\n",
    "for key, gp in df.groupby('name'):\n",
    "    d_freq[key] = gp.freq.sum()\n",
    "    d_births[key] = gp.births.sum()\n",
    "# sort the dict by value then key => if Same value, sort by name!\n",
    "d_freq=dict(sorted(d_freq.items(), key=lambda x: x[1], reverse=True)) \n",
    "d_births=dict(sorted(d_births.items(), key=lambda x: x[1], reverse=True))\n"
   ]
  },
  {
   "cell_type": "markdown",
   "id": "dffc4a95",
   "metadata": {},
   "source": [
    "## Fonction de synthèse \n",
    "Graphique interactive"
   ]
  },
  {
   "cell_type": "code",
   "execution_count": 8,
   "id": "5af906a1",
   "metadata": {
    "code_folding": [
     0
    ],
    "scrolled": false
   },
   "outputs": [
    {
     "data": {
      "application/vnd.jupyter.widget-view+json": {
       "model_id": "62e522cb241748738532301ac52e674d",
       "version_major": 2,
       "version_minor": 0
      },
      "text/plain": [
       "HBox(children=(Dropdown(description='Display :', options=(None, 'Top 5', 'Top 10', 'Bottom 5', 'Bottom 10'), v…"
      ]
     },
     "metadata": {},
     "output_type": "display_data"
    },
    {
     "data": {
      "application/vnd.jupyter.widget-view+json": {
       "model_id": "65ec6065edb24ffdbdf5493a11e450a2",
       "version_major": 2,
       "version_minor": 0
      },
      "text/plain": [
       "Output()"
      ]
     },
     "metadata": {},
     "output_type": "display_data"
    }
   ],
   "source": [
    "# Widgets\n",
    "selection=widgets.Dropdown(\n",
    "    options=[None, 'Top 5', 'Top 10', 'Bottom 5', 'Bottom 10'],\n",
    "    value= None,\n",
    "    description='Display :',\n",
    ")\n",
    "year=widgets.Dropdown(\n",
    "    options=[None,'All'] + sorted(list(df.year.unique())),\n",
    "    value= None,\n",
    "    description='Year:',\n",
    ")\n",
    "name = widgets.Dropdown(\n",
    "    options=[None] + sorted(list(df.name.unique())),\n",
    "    value=None,\n",
    "    description='Name:',\n",
    ")\n",
    "\n",
    "# Drawing function\n",
    "def make_chart(noms):  # -> penser à inserer traitement data dans la fonction \n",
    "    \n",
    "    donnee=df[df.name.isin(noms)] # data\n",
    "    selector = alt.selection_multi(fields=['name']) # filter\n",
    "    # chart\n",
    "    chart=alt.Chart(donnee,\n",
    "             width=800,\n",
    "             height=400).mark_line().encode(\n",
    "                                x='year:Q',\n",
    "                                y='freq:Q',\n",
    "                                tooltip=['name','year','births','freq'],\n",
    "                                #color = alt.Color('name:N')\n",
    "                                color=alt.condition(selector, 'name:N', alt.value('lightgray'))\n",
    "                            ).add_selection(selector)\n",
    "\n",
    "    \n",
    "    # Creation de l'histogram\n",
    "    histo = alt.Chart(donnee, width=800, height=200).mark_bar().encode(\n",
    "        x='year:Q',#alt.X('births:Q', bin=alt.Bin(maxbins=100)),\n",
    "        y='births:Q',\n",
    "        color='name:N'\n",
    "    ).transform_filter(selector)\n",
    "\n",
    "    return chart & histo\n",
    "\n",
    "\n",
    "\n",
    "def visualisation(selection,annee,nom):\n",
    "    # get value form selectors\n",
    "    if not (selection==annee==nom): # All selector are not None=>\n",
    "        if selection:\n",
    "            select = selection.split(' ')\n",
    "            select[1] = int(select[1])\n",
    "        else:\n",
    "            select = [None, None]\n",
    "\n",
    "        # update dataframe according to filter\n",
    "        if nom is None:\n",
    "            if annee !='All' and select[0]=='Top':\n",
    "                l_noms=df[df.year==annee].nlargest(select[1],'births', keep='all').name.values\n",
    "            if annee !='All' and select[0]=='Bottom':\n",
    "                l_noms=df[df.year==annee].nsmallest(select[1],'births', keep='first').name.values\n",
    "            if annee =='All' and select[0]=='Top':\n",
    "                l_noms=list(d_freq.keys())[:5]\n",
    "            if annee =='All' and select[0]=='Bottom':\n",
    "                l_noms=list(d_freq.keys())[-5:]\n",
    "            if annee =='All' and select[0] is None:\n",
    "                l_noms = list(df.name.unique())\n",
    "        else:\n",
    "            l_noms = [nom]\n",
    "\n",
    "        #data=df[df.name.isin(l_noms)] # data\n",
    "        #brush = alt.selection_multi(fields=['name']) # filter\n",
    "        display(make_chart(l_noms))\n",
    "    \n",
    "    return None\n",
    "\n",
    "#Running graph\n",
    "box = widgets.HBox([selection, year, name]) \n",
    "out = widgets.interactive_output(visualisation, {'selection':selection, 'annee':year, 'nom':name});\n",
    "display(box,out)"
   ]
  },
  {
   "cell_type": "markdown",
   "id": "50bf0d9f",
   "metadata": {},
   "source": [
    "## Que du brouillon ci dessous -> A supprimer\n",
    "Les fonctions detaillées"
   ]
  },
  {
   "cell_type": "code",
   "execution_count": 34,
   "id": "e6dce70d",
   "metadata": {
    "code_folding": []
   },
   "outputs": [
    {
     "data": {
      "application/vnd.jupyter.widget-view+json": {
       "model_id": "e9681b91ea7946a1b43de2c42c54bc0b",
       "version_major": 2,
       "version_minor": 0
      },
      "text/plain": [
       "HBox(children=(Dropdown(description='Display :', options=(None, 'Top 5', 'Top 10', 'Bottom 5', 'Bottom 10'), v…"
      ]
     },
     "metadata": {},
     "output_type": "display_data"
    },
    {
     "data": {
      "application/vnd.jupyter.widget-view+json": {
       "model_id": "66ae990c71b542bf8fb393c49c8f5a09",
       "version_major": 2,
       "version_minor": 0
      },
      "text/plain": [
       "Output()"
      ]
     },
     "metadata": {},
     "output_type": "display_data"
    }
   ],
   "source": [
    "# Widgets\n",
    "selection=widgets.Dropdown(\n",
    "    options=[None, 'Top 5', 'Top 10', 'Bottom 5', 'Bottom 10'],\n",
    "    value= None,\n",
    "    description='Display :',\n",
    ")\n",
    "year=widgets.Dropdown(\n",
    "    options=[None,'All'] + sorted(list(df.year.unique())),\n",
    "    value= None,\n",
    "    description='Year:',\n",
    ")\n",
    "name = widgets.Dropdown(\n",
    "    options=[None] + sorted(list(df.name.unique())),\n",
    "    value=None,\n",
    "    description='Name:',\n",
    ")\n",
    "\n",
    "# Drawing function\n",
    "def make_chart(noms):  # -> penser à inserer traitement data dans la fonction \n",
    "    # data selection\n",
    "    donnee=df[df.name.isin(noms)] # data\n",
    "    selector = alt.selection_multi(fields=['name:N']) # filter\n",
    "    \n",
    "    # chart\n",
    "    chart=alt.Chart(donnee,\n",
    "             width=800,\n",
    "             height=400).mark_line(point=donnee.year.nunique()==1).encode(\n",
    "                                x='year:O', #scale=alt.Scale(domain=[1920, 2020])),\n",
    "                                y='freq:Q',\n",
    "                                #strokeWidth=alt.condition('datum.births')\n",
    "                                tooltip=['name:N','year:Q','births:Q','freq:Q'],\n",
    "                                #color = alt.Color('name:N')\n",
    "                                color=alt.condition(selector, 'name:N', alt.value('lightgray')),\n",
    "                            ).add_selection(selector)\n",
    "    # histo diversite prenoms/an\n",
    "    diversity = alt.Chart(df, width=800, height=200\n",
    "                         ).mark_bar().encode(x=alt.X('year:Q'),\n",
    "                                            y=alt.Y('nbNameYear:Q', \n",
    "                                                    axis=alt.Axis(title='Name diversity per year', \n",
    "                                                                  titleColor='#57A44C')),\n",
    "                                             tooltip=['year',\"nbNameYear:Q\"]\n",
    "                                            ).transform_aggregate(nbNameYear='count(name)',\n",
    "                                                                  groupby=[\"year\"]\n",
    "                                                                    )\n",
    "    # nb naissance par an\n",
    "    annualbirth = alt.Chart(df, width=800, height=200\n",
    "                           ).mark_line(color='red').encode(x=alt.X('year:Q'),\n",
    "                                                            y=alt.Y('birthsYear:Q', \n",
    "                                                                    axis=alt.Axis(title='sum births per year', \n",
    "                                                                                  titleColor='red')),\n",
    "                                                           tooltip=['year',\"birthsYear:Q\"]\n",
    "                                                            ).transform_aggregate(\n",
    "                                                                                birthsYear='sum(births)',\n",
    "                                                                                groupby=[\"year\"]\n",
    "                                                                                )\n",
    "    # creation d'un plot communmix des\n",
    "    down = alt.layer(diversity, annualbirth).resolve_scale(y = 'independent')\n",
    "    # Creation de l'histogram\n",
    "    histo = alt.Chart(donnee, width=800, height=200).mark_bar().encode(\n",
    "        x=alt.X('year:Q'),\n",
    "        y='births:Q',\n",
    "        color='name:N'\n",
    "    ).transform_filter(selector)\n",
    "\n",
    "    return chart & histo & down\n",
    "\n",
    "\n",
    "\n",
    "def visualisation(selection,annee,nom):\n",
    "    # get value form selectors\n",
    "    if not (selection==annee==nom): # All selector are not None=>\n",
    "        if selection:\n",
    "            select = selection.split(' ')\n",
    "            select[1] = int(select[1])\n",
    "        else:\n",
    "            select = [None, None]\n",
    "\n",
    "        # update dataframe according to filter\n",
    "        if nom is None:\n",
    "            if annee !='All' and select[0]=='Top':\n",
    "                l_noms=df[df.year==annee].nlargest(select[1],'births', keep='all').name.values\n",
    "            if annee !='All' and select[0]=='Bottom':\n",
    "                l_noms=df[df.year==annee].nsmallest(select[1],'births', keep='all').name.values\n",
    "            if annee =='All' and select[0]=='Top':\n",
    "                l_noms=list(d_freq.keys())[:select[1]]\n",
    "            if annee =='All' and select[0]=='Bottom':\n",
    "                l_noms=list(d_freq.keys())[-select[1]:]\n",
    "            if annee =='All' and select[0] is None:\n",
    "                l_noms = list(df.name.unique())\n",
    "        else:\n",
    "            l_noms = [nom]\n",
    "\n",
    "        #data=df[df.name.isin(l_noms)] # data\n",
    "        #brush = alt.selection_multi(fields=['name']) # filter\n",
    "        display(make_chart(l_noms))\n",
    "    \n",
    "    return None\n",
    "\n",
    "#Running graph\n",
    "box = widgets.HBox([selection, year, name]) \n",
    "out = widgets.interactive_output(visualisation, {'selection':selection, 'annee':year, 'nom':name});\n",
    "display(box,out)"
   ]
  }
 ],
 "metadata": {
  "kernelspec": {
   "display_name": "Python 3 (ipykernel)",
   "language": "python",
   "name": "python3"
  },
  "language_info": {
   "codemirror_mode": {
    "name": "ipython",
    "version": 3
   },
   "file_extension": ".py",
   "mimetype": "text/x-python",
   "name": "python",
   "nbconvert_exporter": "python",
   "pygments_lexer": "ipython3",
   "version": "3.9.7"
  }
 },
 "nbformat": 4,
 "nbformat_minor": 5
}
