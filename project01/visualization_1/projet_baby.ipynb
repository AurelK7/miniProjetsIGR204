{
 "cells": [
  {
   "cell_type": "code",
   "execution_count": 2,
   "id": "9d2b8594",
   "metadata": {},
   "outputs": [
    {
     "data": {
      "text/plain": [
       "DataTransformerRegistry.enable('json')"
      ]
     },
     "execution_count": 2,
     "metadata": {},
     "output_type": "execute_result"
    }
   ],
   "source": [
    "import pandas as pd\n",
    "import numpy as np\n",
    "import ipywidgets as widgets\n",
    "import altair as alt \n",
    "alt.data_transformers.enable('json') # work-around to let Altair handle larger data sets\n",
    "\n",
    "#import matplotlib.pyplot as plt"
   ]
  },
  {
   "cell_type": "code",
   "execution_count": 3,
   "id": "432ea6da",
   "metadata": {
    "code_folding": [
     0
    ]
   },
   "outputs": [
    {
     "data": {
      "text/html": [
       "<div>\n",
       "<style scoped>\n",
       "    .dataframe tbody tr th:only-of-type {\n",
       "        vertical-align: middle;\n",
       "    }\n",
       "\n",
       "    .dataframe tbody tr th {\n",
       "        vertical-align: top;\n",
       "    }\n",
       "\n",
       "    .dataframe thead th {\n",
       "        text-align: right;\n",
       "    }\n",
       "</style>\n",
       "<table border=\"1\" class=\"dataframe\">\n",
       "  <thead>\n",
       "    <tr style=\"text-align: right;\">\n",
       "      <th></th>\n",
       "      <th>gender</th>\n",
       "      <th>name</th>\n",
       "      <th>year</th>\n",
       "      <th>dpt</th>\n",
       "      <th>births</th>\n",
       "    </tr>\n",
       "  </thead>\n",
       "  <tbody>\n",
       "    <tr>\n",
       "      <th>0</th>\n",
       "      <td>1</td>\n",
       "      <td>Aadil</td>\n",
       "      <td>1983</td>\n",
       "      <td>84</td>\n",
       "      <td>3</td>\n",
       "    </tr>\n",
       "    <tr>\n",
       "      <th>1</th>\n",
       "      <td>1</td>\n",
       "      <td>Aadil</td>\n",
       "      <td>1992</td>\n",
       "      <td>92</td>\n",
       "      <td>3</td>\n",
       "    </tr>\n",
       "    <tr>\n",
       "      <th>2</th>\n",
       "      <td>1</td>\n",
       "      <td>Aahil</td>\n",
       "      <td>2016</td>\n",
       "      <td>95</td>\n",
       "      <td>3</td>\n",
       "    </tr>\n",
       "    <tr>\n",
       "      <th>3</th>\n",
       "      <td>1</td>\n",
       "      <td>Aaron</td>\n",
       "      <td>1962</td>\n",
       "      <td>75</td>\n",
       "      <td>3</td>\n",
       "    </tr>\n",
       "    <tr>\n",
       "      <th>4</th>\n",
       "      <td>1</td>\n",
       "      <td>Aaron</td>\n",
       "      <td>1976</td>\n",
       "      <td>75</td>\n",
       "      <td>3</td>\n",
       "    </tr>\n",
       "  </tbody>\n",
       "</table>\n",
       "</div>"
      ],
      "text/plain": [
       "   gender   name  year  dpt  births\n",
       "0       1  Aadil  1983   84       3\n",
       "1       1  Aadil  1992   92       3\n",
       "2       1  Aahil  2016   95       3\n",
       "3       1  Aaron  1962   75       3\n",
       "4       1  Aaron  1976   75       3"
      ]
     },
     "execution_count": 3,
     "metadata": {},
     "output_type": "execute_result"
    }
   ],
   "source": [
    "#\n",
    "'''\n",
    "data = pd.read_csv(\"../data/dpt2020.csv\", \n",
    "                 sep=';',\n",
    "                 header=0,\n",
    "                 names=['gender', 'name', 'year', 'dpt', 'births'],\n",
    "                 converters={\n",
    "                          #'gender': d.get,  # lambda x: d[x]\n",
    "                          'name': str.title\n",
    "                      })\n",
    "\n",
    "#cleanning\n",
    "data = data.loc[(data['name'].str.len() > 1)\n",
    "                & (data['year'] != 'XXXX')\n",
    "                & ~data['name'].str.startswith('_')].reset_index(drop=True)\n",
    "\n",
    "data['year'] = data['year'].astype(np.int64)\n",
    "data['dpt'] = data['dpt'].astype(np.int64)\n",
    "\n",
    "data.head()\n",
    "'''"
   ]
  },
  {
   "cell_type": "code",
   "execution_count": 160,
   "id": "38053256",
   "metadata": {
    "code_folding": [
     0
    ]
   },
   "outputs": [
    {
     "data": {
      "text/html": [
       "<div>\n",
       "<style scoped>\n",
       "    .dataframe tbody tr th:only-of-type {\n",
       "        vertical-align: middle;\n",
       "    }\n",
       "\n",
       "    .dataframe tbody tr th {\n",
       "        vertical-align: top;\n",
       "    }\n",
       "\n",
       "    .dataframe thead th {\n",
       "        text-align: right;\n",
       "    }\n",
       "</style>\n",
       "<table border=\"1\" class=\"dataframe\">\n",
       "  <thead>\n",
       "    <tr style=\"text-align: right;\">\n",
       "      <th></th>\n",
       "      <th>name</th>\n",
       "      <th>year</th>\n",
       "      <th>births</th>\n",
       "      <th>freq</th>\n",
       "    </tr>\n",
       "  </thead>\n",
       "  <tbody>\n",
       "    <tr>\n",
       "      <th>0</th>\n",
       "      <td>Aaliyah</td>\n",
       "      <td>2019</td>\n",
       "      <td>179</td>\n",
       "      <td>0.000355</td>\n",
       "    </tr>\n",
       "    <tr>\n",
       "      <th>1</th>\n",
       "      <td>Aaron</td>\n",
       "      <td>2019</td>\n",
       "      <td>2436</td>\n",
       "      <td>0.004836</td>\n",
       "    </tr>\n",
       "    <tr>\n",
       "      <th>2</th>\n",
       "      <td>Aarush</td>\n",
       "      <td>2019</td>\n",
       "      <td>6</td>\n",
       "      <td>0.000012</td>\n",
       "    </tr>\n",
       "    <tr>\n",
       "      <th>3</th>\n",
       "      <td>Abbie</td>\n",
       "      <td>2019</td>\n",
       "      <td>11</td>\n",
       "      <td>0.000022</td>\n",
       "    </tr>\n",
       "    <tr>\n",
       "      <th>4</th>\n",
       "      <td>Abby</td>\n",
       "      <td>2019</td>\n",
       "      <td>138</td>\n",
       "      <td>0.000274</td>\n",
       "    </tr>\n",
       "  </tbody>\n",
       "</table>\n",
       "</div>"
      ],
      "text/plain": [
       "      name  year births      freq\n",
       "0  Aaliyah  2019    179  0.000355\n",
       "1    Aaron  2019   2436  0.004836\n",
       "2   Aarush  2019      6  0.000012\n",
       "3    Abbie  2019     11  0.000022\n",
       "4     Abby  2019    138  0.000274"
      ]
     },
     "execution_count": 160,
     "metadata": {},
     "output_type": "execute_result"
    }
   ],
   "source": [
    "#\n",
    "'''\n",
    "df=pd.DataFrame(columns=[\"name\",'year',\"births\"])\n",
    "\n",
    "for key, group in data.groupby(['year','name']):\n",
    "    year = key[0]\n",
    "    name=key[1]\n",
    "    total=group.births.sum()\n",
    "    df.loc[len(df)] = name, year, total\n",
    "\n",
    "total = {}\n",
    "for key, group in df.groupby('year'):\n",
    "    total[key] = group.births.sum()\n",
    "    \n",
    "df['freq'] = df.apply(lambda x :  x[2]/total[x[1]], axis=1)\n",
    "df['births'] = df['births'].astype(np.int64)\n",
    "df['year'] = df['year'].astype(np.int64)\n",
    "#df.to_csv(\"baby_years.csv\", sep=';' ,index=False)\n",
    "del total\n",
    "df.head()\n",
    "'''"
   ]
  },
  {
   "cell_type": "markdown",
   "id": "c048aab6",
   "metadata": {},
   "source": [
    "## Chargement des données aggregées"
   ]
  },
  {
   "cell_type": "code",
   "execution_count": 4,
   "id": "2d0ee588",
   "metadata": {},
   "outputs": [
    {
     "data": {
      "text/plain": [
       "(249113, 4)"
      ]
     },
     "execution_count": 4,
     "metadata": {},
     "output_type": "execute_result"
    }
   ],
   "source": [
    "# loading new dataframe clean and tunned \n",
    "df=pd.read_csv(\"../data/baby_years.csv\", sep=';')\n",
    "df.shape"
   ]
  },
  {
   "cell_type": "markdown",
   "id": "7f4e42cc",
   "metadata": {},
   "source": [
    "##### Besoin de definir des dictionnaires de ranking sur All year  --> Non present dans la dataFrame aggregée"
   ]
  },
  {
   "cell_type": "code",
   "execution_count": 5,
   "id": "acb3998b",
   "metadata": {},
   "outputs": [],
   "source": [
    "# faire un ranking des prenoms sur toutes les années qui sera utile pour le trie \"All\"\n",
    "#\n",
    "\n",
    "d_freq = {}\n",
    "d_births = {}\n",
    "for key, gp in df.groupby('name'):\n",
    "    d_freq[key] = gp.freq.sum()\n",
    "    d_births[key] = gp.births.sum()\n",
    "# sort the dict by value then key => if Same value, sort by name!\n",
    "d_freq=dict(sorted(d_freq.items(), key=lambda x: x[1], reverse=True)) \n",
    "d_births=dict(sorted(d_births.items(), key=lambda x: x[1], reverse=True))\n"
   ]
  },
  {
   "cell_type": "code",
   "execution_count": 306,
   "id": "04e7bccd",
   "metadata": {
    "code_folding": [
     0
    ]
   },
   "outputs": [
    {
     "data": {
      "application/vnd.jupyter.widget-view+json": {
       "model_id": "9cbe2718428746ad8596b325f8ac7436",
       "version_major": 2,
       "version_minor": 0
      },
      "text/plain": [
       "interactive(children=(Dropdown(description='Display :', index=1, options=(None, 'Top 5', 'Top 10', 'Bottom 5',…"
      ]
     },
     "metadata": {},
     "output_type": "display_data"
    }
   ],
   "source": [
    "#\n",
    "'''\n",
    "from ipywidgets import interact#, interactive, fixed, interact_manual\n",
    "\n",
    "def f(a, b, c):\n",
    "    print(a, b,c)\n",
    "    \n",
    "    return a, b, c\n",
    "\n",
    "#interact(f,a=selection, b=year, c=name);"
   ]
  },
  {
   "cell_type": "markdown",
   "id": "dffc4a95",
   "metadata": {},
   "source": [
    "## Fonction de synthèse \n",
    "Graphique interactive"
   ]
  },
  {
   "cell_type": "code",
   "execution_count": 8,
   "id": "5af906a1",
   "metadata": {
    "code_folding": [
     0
    ],
    "scrolled": false
   },
   "outputs": [
    {
     "data": {
      "application/vnd.jupyter.widget-view+json": {
       "model_id": "62e522cb241748738532301ac52e674d",
       "version_major": 2,
       "version_minor": 0
      },
      "text/plain": [
       "HBox(children=(Dropdown(description='Display :', options=(None, 'Top 5', 'Top 10', 'Bottom 5', 'Bottom 10'), v…"
      ]
     },
     "metadata": {},
     "output_type": "display_data"
    },
    {
     "data": {
      "application/vnd.jupyter.widget-view+json": {
       "model_id": "65ec6065edb24ffdbdf5493a11e450a2",
       "version_major": 2,
       "version_minor": 0
      },
      "text/plain": [
       "Output()"
      ]
     },
     "metadata": {},
     "output_type": "display_data"
    }
   ],
   "source": [
    "# Widgets\n",
    "selection=widgets.Dropdown(\n",
    "    options=[None, 'Top 5', 'Top 10', 'Bottom 5', 'Bottom 10'],\n",
    "    value= None,\n",
    "    description='Display :',\n",
    ")\n",
    "year=widgets.Dropdown(\n",
    "    options=[None,'All'] + sorted(list(df.year.unique())),\n",
    "    value= None,\n",
    "    description='Year:',\n",
    ")\n",
    "name = widgets.Dropdown(\n",
    "    options=[None] + sorted(list(df.name.unique())),\n",
    "    value=None,\n",
    "    description='Name:',\n",
    ")\n",
    "\n",
    "# Drawing function\n",
    "def make_chart(noms):  # -> penser à inserer traitement data dans la fonction \n",
    "    \n",
    "    donnee=df[df.name.isin(noms)] # data\n",
    "    selector = alt.selection_multi(fields=['name']) # filter\n",
    "    # chart\n",
    "    chart=alt.Chart(donnee,\n",
    "             width=800,\n",
    "             height=400).mark_line().encode(\n",
    "                                x='year:Q',\n",
    "                                y='freq:Q',\n",
    "                                tooltip=['name','year','births','freq'],\n",
    "                                #color = alt.Color('name:N')\n",
    "                                color=alt.condition(selector, 'name:N', alt.value('lightgray'))\n",
    "                            ).add_selection(selector)\n",
    "\n",
    "    \n",
    "    # Creation de l'histogram\n",
    "    histo = alt.Chart(donnee, width=800, height=200).mark_bar().encode(\n",
    "        x='year:Q',#alt.X('births:Q', bin=alt.Bin(maxbins=100)),\n",
    "        y='births:Q',\n",
    "        color='name:N'\n",
    "    ).transform_filter(selector)\n",
    "\n",
    "    return chart & histo\n",
    "\n",
    "\n",
    "\n",
    "def visualisation(selection,annee,nom):\n",
    "    # get value form selectors\n",
    "    if not (selection==annee==nom): # All selector are not None=>\n",
    "        if selection:\n",
    "            select = selection.split(' ')\n",
    "            select[1] = int(select[1])\n",
    "        else:\n",
    "            select = [None, None]\n",
    "\n",
    "        # update dataframe according to filter\n",
    "        if nom is None:\n",
    "            if annee !='All' and select[0]=='Top':\n",
    "                l_noms=df[df.year==annee].nlargest(select[1],'births', keep='all').name.values\n",
    "            if annee !='All' and select[0]=='Bottom':\n",
    "                l_noms=df[df.year==annee].nsmallest(select[1],'births', keep='first').name.values\n",
    "            if annee =='All' and select[0]=='Top':\n",
    "                l_noms=list(d_freq.keys())[:5]\n",
    "            if annee =='All' and select[0]=='Bottom':\n",
    "                l_noms=list(d_freq.keys())[-5:]\n",
    "            if annee =='All' and select[0] is None:\n",
    "                l_noms = list(df.name.unique())\n",
    "        else:\n",
    "            l_noms = [nom]\n",
    "\n",
    "        #data=df[df.name.isin(l_noms)] # data\n",
    "        #brush = alt.selection_multi(fields=['name']) # filter\n",
    "        display(make_chart(l_noms))\n",
    "    \n",
    "    return None\n",
    "\n",
    "#Running graph\n",
    "box = widgets.HBox([selection, year, name]) \n",
    "out = widgets.interactive_output(visualisation, {'selection':selection, 'annee':year, 'nom':name});\n",
    "display(box,out)"
   ]
  },
  {
   "cell_type": "markdown",
   "id": "50bf0d9f",
   "metadata": {},
   "source": [
    "## Que du brouillon ci dessous -> A supprimer\n",
    "Les fonctions detaillées"
   ]
  },
  {
   "cell_type": "code",
   "execution_count": null,
   "id": "e6dce70d",
   "metadata": {
    "code_folding": []
   },
   "outputs": [
    {
     "data": {
      "application/vnd.jupyter.widget-view+json": {
       "model_id": "37f72b7ae943414d8cbb0c864b8efba1",
       "version_major": 2,
       "version_minor": 0
      },
      "text/plain": [
       "HBox(children=(Dropdown(description='Display :', options=(None, 'Top 5', 'Top 10', 'Bottom 5', 'Bottom 10'), v…"
      ]
     },
     "metadata": {},
     "output_type": "display_data"
    }
   ],
   "source": [
    "# Widgets\n",
    "selection=widgets.Dropdown(\n",
    "    options=[None, 'Top 5', 'Top 10', 'Bottom 5', 'Bottom 10'],\n",
    "    value= None,\n",
    "    description='Display :',\n",
    ")\n",
    "year=widgets.Dropdown(\n",
    "    options=[None,'All'] + sorted(list(df.year.unique())),\n",
    "    value= None,\n",
    "    description='Year:',\n",
    ")\n",
    "name = widgets.Dropdown(\n",
    "    options=[None] + sorted(list(df.name.unique())),\n",
    "    value=None,\n",
    "    description='Name:',\n",
    ")\n",
    "\n",
    "# Drawing function\n",
    "def make_chart(noms):  # -> penser à inserer traitement data dans la fonction \n",
    "    # data selection\n",
    "    donnee=df[df.name.isin(noms)] # data\n",
    "    selector = alt.selection_multi(fields=['name:N']) # filter\n",
    "    \n",
    "    # chart\n",
    "    chart=alt.Chart(donnee,\n",
    "             width=800,\n",
    "             height=400).mark_line().encode(\n",
    "                                x='year:Q',\n",
    "                                y='births:Q',\n",
    "                                tooltip=['name:N','year:Q','births:Q','freq:Q'],\n",
    "                                #color = alt.Color('name:N')\n",
    "                                color=alt.condition(selector, 'name:N', alt.value('lightgray'))\n",
    "                            ).add_selection(selector)\n",
    "    # histo diversite prenoms/an\n",
    "    diversity = alt.Chart(df, width=800, height=200\n",
    "                         ).mark_bar().encode(x='year:Q',\n",
    "                                            y=alt.Y('nbNameYear:Q', \n",
    "                                                    axis=alt.Axis(title='Name diversity per year', \n",
    "                                                                  titleColor='#57A44C')),\n",
    "                                             tooltip=['year',\"nbNameYear:Q\"]\n",
    "                                            ).transform_aggregate(nbNameYear='count(name)',\n",
    "                                                                  groupby=[\"year\"]\n",
    "                                                                    )\n",
    "    # nb naissance par an\n",
    "    annualbirth = alt.Chart(df, width=800, height=200\n",
    "                           ).mark_line(color='red').encode(x='year:Q',\n",
    "                                                            y=alt.Y('birthsYear:Q', \n",
    "                                                                    axis=alt.Axis(title='sum births per year', \n",
    "                                                                                  titleColor='red')),\n",
    "                                                           tooltip=['year',\"birthsYear:Q\"]\n",
    "                                                            ).transform_aggregate(\n",
    "                                                                                birthsYear='sum(births)',\n",
    "                                                                                groupby=[\"year\"]\n",
    "                                                                                )\n",
    "    # creation d'un plot communmix des\n",
    "    down = alt.layer(diversity, annualbirth).resolve_scale(y = 'independent')\n",
    "    # Creation de l'histogram\n",
    "    histo = alt.Chart(donnee, width=800, height=200).mark_bar().encode(\n",
    "        x=alt.X('births:Q', bin=alt.Bin(maxbins=100)),\n",
    "        y='births:Q',\n",
    "        color='name:N'\n",
    "    ).transform_filter(selector)\n",
    "\n",
    "    return chart & histo & down\n",
    "\n",
    "\n",
    "\n",
    "def visualisation(selection,annee,nom):\n",
    "    # get value form selectors\n",
    "    if not (selection==annee==nom): # All selector are not None=>\n",
    "        if selection:\n",
    "            select = selection.split(' ')\n",
    "            select[1] = int(select[1])\n",
    "        else:\n",
    "            select = [None, None]\n",
    "\n",
    "        # update dataframe according to filter\n",
    "        if nom is None:\n",
    "            if annee !='All' and select[0]=='Top':\n",
    "                l_noms=df[df.year==annee].nlargest(select[1],'births', keep='all').name.values\n",
    "            if annee !='All' and select[0]=='Bottom':\n",
    "                l_noms=df[df.year==annee].nsmallest(select[1],'births', keep='first').name.values\n",
    "            if annee =='All' and select[0]=='Top':\n",
    "                l_noms=list(d_freq.keys())[:5]\n",
    "            if annee =='All' and select[0]=='Bottom':\n",
    "                l_noms=list(d_freq.keys())[-5:]\n",
    "            if annee =='All' and select[0] is None:\n",
    "                l_noms = list(df.name.unique())\n",
    "        else:\n",
    "            l_noms = [nom]\n",
    "\n",
    "        #data=df[df.name.isin(l_noms)] # data\n",
    "        #brush = alt.selection_multi(fields=['name']) # filter\n",
    "        display(make_chart(l_noms))\n",
    "    \n",
    "    return None\n",
    "\n",
    "#Running graph\n",
    "box = widgets.HBox([selection, year, name]) \n",
    "out = widgets.interactive_output(visualisation, {'selection':selection, 'annee':year, 'nom':name});\n",
    "display(box,out)"
   ]
  },
  {
   "cell_type": "code",
   "execution_count": 11,
   "id": "4f86a114",
   "metadata": {
    "code_folding": []
   },
   "outputs": [],
   "source": [
    "# Histogramme des diversité de prenoms par an!\n",
    "a =alt.Chart(df,\n",
    "             width=800,\n",
    "             height=400).mark_bar().encode(x='year:Q',\n",
    "                                            y=alt.Y('nbNameYear:Q', \n",
    "                                                    axis=alt.Axis(title='Name diversity per year', \n",
    "                                                                  titleColor='#57A44C')),             \n",
    "                        ).transform_aggregate(\n",
    "                                            nbNameYear='count(name)',\n",
    "                                            groupby=[\"year\"]\n",
    "                                            )"
   ]
  },
  {
   "cell_type": "code",
   "execution_count": 13,
   "id": "f0de8f38",
   "metadata": {
    "code_folding": []
   },
   "outputs": [
    {
     "data": {
      "text/html": [
       "\n",
       "<div id=\"altair-viz-d20ab50592214c94a1fac6a0cd6552bb\"></div>\n",
       "<script type=\"text/javascript\">\n",
       "  var VEGA_DEBUG = (typeof VEGA_DEBUG == \"undefined\") ? {} : VEGA_DEBUG;\n",
       "  (function(spec, embedOpt){\n",
       "    let outputDiv = document.currentScript.previousElementSibling;\n",
       "    if (outputDiv.id !== \"altair-viz-d20ab50592214c94a1fac6a0cd6552bb\") {\n",
       "      outputDiv = document.getElementById(\"altair-viz-d20ab50592214c94a1fac6a0cd6552bb\");\n",
       "    }\n",
       "    const paths = {\n",
       "      \"vega\": \"https://cdn.jsdelivr.net/npm//vega@5?noext\",\n",
       "      \"vega-lib\": \"https://cdn.jsdelivr.net/npm//vega-lib?noext\",\n",
       "      \"vega-lite\": \"https://cdn.jsdelivr.net/npm//vega-lite@4.17.0?noext\",\n",
       "      \"vega-embed\": \"https://cdn.jsdelivr.net/npm//vega-embed@6?noext\",\n",
       "    };\n",
       "\n",
       "    function maybeLoadScript(lib, version) {\n",
       "      var key = `${lib.replace(\"-\", \"\")}_version`;\n",
       "      return (VEGA_DEBUG[key] == version) ?\n",
       "        Promise.resolve(paths[lib]) :\n",
       "        new Promise(function(resolve, reject) {\n",
       "          var s = document.createElement('script');\n",
       "          document.getElementsByTagName(\"head\")[0].appendChild(s);\n",
       "          s.async = true;\n",
       "          s.onload = () => {\n",
       "            VEGA_DEBUG[key] = version;\n",
       "            return resolve(paths[lib]);\n",
       "          };\n",
       "          s.onerror = () => reject(`Error loading script: ${paths[lib]}`);\n",
       "          s.src = paths[lib];\n",
       "        });\n",
       "    }\n",
       "\n",
       "    function showError(err) {\n",
       "      outputDiv.innerHTML = `<div class=\"error\" style=\"color:red;\">${err}</div>`;\n",
       "      throw err;\n",
       "    }\n",
       "\n",
       "    function displayChart(vegaEmbed) {\n",
       "      vegaEmbed(outputDiv, spec, embedOpt)\n",
       "        .catch(err => showError(`Javascript Error: ${err.message}<br>This usually means there's a typo in your chart specification. See the javascript console for the full traceback.`));\n",
       "    }\n",
       "\n",
       "    if(typeof define === \"function\" && define.amd) {\n",
       "      requirejs.config({paths});\n",
       "      require([\"vega-embed\"], displayChart, err => showError(`Error loading script: ${err.message}`));\n",
       "    } else {\n",
       "      maybeLoadScript(\"vega\", \"5\")\n",
       "        .then(() => maybeLoadScript(\"vega-lite\", \"4.17.0\"))\n",
       "        .then(() => maybeLoadScript(\"vega-embed\", \"6\"))\n",
       "        .catch(showError)\n",
       "        .then(() => displayChart(vegaEmbed));\n",
       "    }\n",
       "  })({\"config\": {\"view\": {\"continuousWidth\": 400, \"continuousHeight\": 300}}, \"vconcat\": [{\"mark\": \"bar\", \"encoding\": {\"x\": {\"field\": \"year\", \"type\": \"quantitative\"}, \"y\": {\"axis\": {\"title\": \"Name diversity per year\", \"titleColor\": \"#57A44C\"}, \"field\": \"nbNameYear\", \"type\": \"quantitative\"}}, \"height\": 400, \"transform\": [{\"aggregate\": [{\"op\": \"count\", \"field\": \"name\", \"as\": \"nbNameYear\"}], \"groupby\": [\"year\"]}], \"width\": 800}, {\"mark\": {\"type\": \"line\", \"color\": \"red\"}, \"encoding\": {\"x\": {\"field\": \"year\", \"type\": \"quantitative\"}, \"y\": {\"axis\": {\"title\": \"sum births per year\", \"titleColor\": \"red\"}, \"field\": \"birthsYear\", \"type\": \"quantitative\"}}, \"height\": 400, \"transform\": [{\"aggregate\": [{\"op\": \"sum\", \"field\": \"births\", \"as\": \"birthsYear\"}], \"groupby\": [\"year\"]}], \"width\": 800}], \"data\": {\"url\": \"altair-data-0e23861b89833e89769703d29e24873c.json\", \"format\": {\"type\": \"json\"}}, \"$schema\": \"https://vega.github.io/schema/vega-lite/v4.17.0.json\"}, {\"mode\": \"vega-lite\"});\n",
       "</script>"
      ],
      "text/plain": [
       "alt.VConcatChart(...)"
      ]
     },
     "execution_count": 13,
     "metadata": {},
     "output_type": "execute_result"
    }
   ],
   "source": [
    "# Evolution du nombre de naissances par an!\n",
    "b = alt.Chart(df,\n",
    "             width=800,\n",
    "             height=400).mark_line(color='red').encode(x='year:Q',\n",
    "                                            y=alt.Y('birthsYear:Q', \n",
    "                                                    axis=alt.Axis(title='sum births per year', \n",
    "                                                                  titleColor='red')),\n",
    "                        ).transform_aggregate(\n",
    "                                            birthsYear='sum(births)',\n",
    "                                            groupby=[\"year\"]\n",
    "                                            )\n",
    "alt.layer(a, b).resolve_scale(\n",
    "    y = 'independent'\n",
    ")\n",
    "a & b"
   ]
  },
  {
   "cell_type": "code",
   "execution_count": 286,
   "id": "4f5bac1f",
   "metadata": {
    "code_folding": [
     0
    ]
   },
   "outputs": [
    {
     "name": "stdout",
     "output_type": "stream",
     "text": [
      "['Top', 5] All None\n",
      "['Marie', 'Jean', 'Pierre', 'André', 'Michel']\n"
     ]
    },
    {
     "data": {
      "text/html": [
       "\n",
       "<div id=\"altair-viz-e0da23379f3941a9b0f882c7d8b3372e\"></div>\n",
       "<script type=\"text/javascript\">\n",
       "  var VEGA_DEBUG = (typeof VEGA_DEBUG == \"undefined\") ? {} : VEGA_DEBUG;\n",
       "  (function(spec, embedOpt){\n",
       "    let outputDiv = document.currentScript.previousElementSibling;\n",
       "    if (outputDiv.id !== \"altair-viz-e0da23379f3941a9b0f882c7d8b3372e\") {\n",
       "      outputDiv = document.getElementById(\"altair-viz-e0da23379f3941a9b0f882c7d8b3372e\");\n",
       "    }\n",
       "    const paths = {\n",
       "      \"vega\": \"https://cdn.jsdelivr.net/npm//vega@5?noext\",\n",
       "      \"vega-lib\": \"https://cdn.jsdelivr.net/npm//vega-lib?noext\",\n",
       "      \"vega-lite\": \"https://cdn.jsdelivr.net/npm//vega-lite@4.17.0?noext\",\n",
       "      \"vega-embed\": \"https://cdn.jsdelivr.net/npm//vega-embed@6?noext\",\n",
       "    };\n",
       "\n",
       "    function maybeLoadScript(lib, version) {\n",
       "      var key = `${lib.replace(\"-\", \"\")}_version`;\n",
       "      return (VEGA_DEBUG[key] == version) ?\n",
       "        Promise.resolve(paths[lib]) :\n",
       "        new Promise(function(resolve, reject) {\n",
       "          var s = document.createElement('script');\n",
       "          document.getElementsByTagName(\"head\")[0].appendChild(s);\n",
       "          s.async = true;\n",
       "          s.onload = () => {\n",
       "            VEGA_DEBUG[key] = version;\n",
       "            return resolve(paths[lib]);\n",
       "          };\n",
       "          s.onerror = () => reject(`Error loading script: ${paths[lib]}`);\n",
       "          s.src = paths[lib];\n",
       "        });\n",
       "    }\n",
       "\n",
       "    function showError(err) {\n",
       "      outputDiv.innerHTML = `<div class=\"error\" style=\"color:red;\">${err}</div>`;\n",
       "      throw err;\n",
       "    }\n",
       "\n",
       "    function displayChart(vegaEmbed) {\n",
       "      vegaEmbed(outputDiv, spec, embedOpt)\n",
       "        .catch(err => showError(`Javascript Error: ${err.message}<br>This usually means there's a typo in your chart specification. See the javascript console for the full traceback.`));\n",
       "    }\n",
       "\n",
       "    if(typeof define === \"function\" && define.amd) {\n",
       "      requirejs.config({paths});\n",
       "      require([\"vega-embed\"], displayChart, err => showError(`Error loading script: ${err.message}`));\n",
       "    } else {\n",
       "      maybeLoadScript(\"vega\", \"5\")\n",
       "        .then(() => maybeLoadScript(\"vega-lite\", \"4.17.0\"))\n",
       "        .then(() => maybeLoadScript(\"vega-embed\", \"6\"))\n",
       "        .catch(showError)\n",
       "        .then(() => displayChart(vegaEmbed));\n",
       "    }\n",
       "  })({\"config\": {\"view\": {\"continuousWidth\": 400, \"continuousHeight\": 300}}, \"vconcat\": [{\"mark\": \"line\", \"encoding\": {\"color\": {\"condition\": {\"field\": \"name\", \"type\": \"nominal\", \"selection\": \"selector016\"}, \"value\": \"lightgray\"}, \"tooltip\": [{\"field\": \"name\", \"type\": \"nominal\"}, {\"field\": \"year\", \"type\": \"quantitative\"}, {\"field\": \"births\", \"type\": \"quantitative\"}, {\"field\": \"freq\", \"type\": \"quantitative\"}], \"x\": {\"field\": \"year\", \"type\": \"quantitative\"}, \"y\": {\"field\": \"births\", \"type\": \"quantitative\"}}, \"height\": 400, \"selection\": {\"selector016\": {\"type\": \"multi\", \"fields\": [\"name\"]}}, \"width\": 800}, {\"mark\": \"bar\", \"encoding\": {\"color\": {\"field\": \"name\", \"type\": \"nominal\"}, \"x\": {\"bin\": {\"maxbins\": 200}, \"field\": \"births\", \"type\": \"quantitative\"}, \"y\": {\"field\": \"births\", \"type\": \"quantitative\"}}, \"height\": 200, \"transform\": [{\"filter\": {\"selection\": \"selector016\"}}], \"width\": 800}], \"data\": {\"url\": \"altair-data-0ee09f88723f574ff2e5276c6ae7a558.json\", \"format\": {\"type\": \"json\"}}, \"$schema\": \"https://vega.github.io/schema/vega-lite/v4.17.0.json\"}, {\"mode\": \"vega-lite\"});\n",
       "</script>"
      ],
      "text/plain": [
       "alt.VConcatChart(...)"
      ]
     },
     "execution_count": 286,
     "metadata": {},
     "output_type": "execute_result"
    }
   ],
   "source": [
    "# getting widgets return values\n",
    "\n",
    "if selection.value:\n",
    "    select = selection.value.split(' ')\n",
    "    select[1] = int(select[1])\n",
    "if year.value:\n",
    "    annee = year.value\n",
    "if name.value:\n",
    "    nom = name.value\n",
    "print(select, annee, nom)\n",
    "\n",
    "# update dataframe according to filter\n",
    "if nom is None:\n",
    "    if annee !='All' and select[0]=='Top':\n",
    "        l_noms=df[df.year==annee].nlargest(select[1],'births', keep='all').name.values\n",
    "    if annee !='All' and select[0]=='Bottom':\n",
    "        l_noms=df[df.year==annee].nsmallest(select[1],'births', keep='all').name.values\n",
    "    if annee =='All' and select[0]=='Top':\n",
    "        l_noms=list(d_freq.keys())[:5]\n",
    "    if annee =='All' and select[0]=='Bottom':\n",
    "        l_noms=list(d_freq.keys())[-5:]\n",
    "else:\n",
    "    l_noms = [nom]\n",
    "print(l_noms)\n",
    "\n",
    "data=df[df.name.isin(l_noms)]\n",
    "\n",
    "# Altair display\n",
    "\n",
    "def make_chart(data,selector):  # -> penser à inserer traitement data dans la fonction \n",
    "    \n",
    "    \n",
    "    chart=alt.Chart(data,\n",
    "             width=800,\n",
    "             height=400).mark_line().encode(\n",
    "                                x='year:Q',\n",
    "                                y='births:Q',\n",
    "                                tooltip=['name','year','births','freq'],\n",
    "                                #color = alt.Color('name:N')\n",
    "                                color=alt.condition(selector, 'name:N', alt.value('lightgray'))\n",
    "                            ).add_selection(selector)\n",
    "\n",
    "\n",
    "    #pop_selection = alt.selection_interval(encodings=['x'])\n",
    "\n",
    "    # Creation de l'histogram\n",
    "    histo = alt.Chart(data, width=800, height=200).mark_bar().encode(\n",
    "        x=alt.X('births:Q', bin=alt.Bin(maxbins=200)),\n",
    "        y='births:Q',\n",
    "        color='name:N'\n",
    "    ).transform_filter(selector)\n",
    "\n",
    "    return chart & histo\n",
    "\n",
    "# selection\n",
    "brush = alt.selection_multi(fields=['name'])\n",
    "\n",
    "#draw\n",
    "make_chart(data, brush)"
   ]
  }
 ],
 "metadata": {
  "kernelspec": {
   "display_name": "Python 3 (ipykernel)",
   "language": "python",
   "name": "python3"
  },
  "language_info": {
   "codemirror_mode": {
    "name": "ipython",
    "version": 3
   },
   "file_extension": ".py",
   "mimetype": "text/x-python",
   "name": "python",
   "nbconvert_exporter": "python",
   "pygments_lexer": "ipython3",
   "version": "3.9.7"
  }
 },
 "nbformat": 4,
 "nbformat_minor": 5
}
